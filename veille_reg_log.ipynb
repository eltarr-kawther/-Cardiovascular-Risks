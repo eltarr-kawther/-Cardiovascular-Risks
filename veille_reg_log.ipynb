{
 "cells": [
  {
   "cell_type": "markdown",
   "metadata": {},
   "source": [
    "# Veille Régression Logistique"
   ]
  },
  {
   "cell_type": "markdown",
   "metadata": {},
   "source": [
    "La classification est un domaine très important de l'apprentissage automatique supervisé. Un grand nombre de problèmes importants d'apprentissage automatique relèvent de ce domaine. Il existe de nombreuses méthodes de classification et la régression logistique en fait partie. [1]"
   ]
  },
  {
   "cell_type": "markdown",
   "metadata": {},
   "source": [
    "La nature des variables dépendantes différencie les problèmes de régression et de classification. Les problèmes de régression ont des résultats continus et généralement illimités. Un exemple est lorsque vous estimez le salaire en fonction de l'expérience et du niveau d'éducation. D'un autre côté, les problèmes de classification ont des sorties discrètes et finies appelées classes ou catégories . Par exemple, prédire si un employé sera promu ou non (vrai ou faux) est un problème de classification."
   ]
  },
  {
   "cell_type": "markdown",
   "metadata": {},
   "source": [
    "Il existe deux principaux types de problèmes de classification :\n",
    "\n",
    "- Classification binaire ou binomiale: exactement deux classes au choix (généralement 0 et 1, vrai et faux, ou positif et négatif)\n",
    "- Classification multiclasse ou multinomiale: trois classes ou plus de sorties au choix"
   ]
  },
  {
   "cell_type": "markdown",
   "metadata": {},
   "source": [
    "La régression logistique appartient au groupe des classificateurs linéaires et est quelque peu similaire à la régression polynomiale et linéaire. Bien qu'il s'agisse essentiellement d'une méthode de classification binaire, elle peut également être appliquée à des problèmes multiclasses."
   ]
  },
  {
   "cell_type": "markdown",
   "metadata": {},
   "source": [
    "Dans la régression logistique, ce n’est pas la réponse binaire (malade/pas malade) qui est directement modélisée, mais la probabilité de réalisation d’une des deux modalités (être malade par exemple). [2] "
   ]
  },
  {
   "cell_type": "markdown",
   "metadata": {},
   "source": [
    "Cette probabilité, est alors modélisée par une courbe sigmoïde, bornée par 0, et 1 :\n",
    "\n",
    "![title](figures/regression_logistique_sigmoide.png)"
   ]
  },
  {
   "cell_type": "markdown",
   "metadata": {},
   "source": [
    "<div align=\"center\">$f(x)=\\frac{exp(x)}{1+exp(x)}=p$</div>"
   ]
  },
  {
   "cell_type": "markdown",
   "metadata": {},
   "source": []
  },
  {
   "cell_type": "markdown",
   "metadata": {},
   "source": []
  },
  {
   "cell_type": "markdown",
   "metadata": {},
   "source": []
  },
  {
   "cell_type": "markdown",
   "metadata": {},
   "source": []
  },
  {
   "cell_type": "markdown",
   "metadata": {},
   "source": [
    "## Bibliographie\n",
    "* [1] : Régression logistique en Python (https://realpython.com/logistic-regression-python/)\n",
    "* [2] : Introduction à la régression logistique (https://delladata.fr/regression-logistique/)"
   ]
  }
 ],
 "metadata": {
  "kernelspec": {
   "display_name": "Python 3",
   "language": "python",
   "name": "python3"
  },
  "language_info": {
   "codemirror_mode": {
    "name": "ipython",
    "version": 3
   },
   "file_extension": ".py",
   "mimetype": "text/x-python",
   "name": "python",
   "nbconvert_exporter": "python",
   "pygments_lexer": "ipython3",
   "version": "3.7.3"
  }
 },
 "nbformat": 4,
 "nbformat_minor": 4
}
