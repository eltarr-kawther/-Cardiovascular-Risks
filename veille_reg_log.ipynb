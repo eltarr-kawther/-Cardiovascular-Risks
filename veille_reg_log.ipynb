{
 "cells": [
  {
   "cell_type": "markdown",
   "metadata": {},
   "source": [
    "# Veille Régression Logistique"
   ]
  },
  {
   "cell_type": "markdown",
   "metadata": {},
   "source": [
    "* [1] : Logistic Regression in Python (https://realpython.com/logistic-regression-python/)\n",
    "* [2] : Introduction à la régression logistique (https://delladata.fr/regression-logistique/)\n",
    "* [3] : Régression logistique ou modèle binomial (https://www.math.univ-toulouse.fr/~besse/Wikistat/pdf/st-m-app-rlogit.pdf)\n",
    "* [4] : Logistic Regression pour Machine Learning – Une Introduction Simple (https://mrmint.fr/logistic-regression-machine-learning-introduction-simple)"
   ]
  }
 ],
 "metadata": {
  "kernelspec": {
   "display_name": "Python 3",
   "language": "python",
   "name": "python3"
  },
  "language_info": {
   "codemirror_mode": {
    "name": "ipython",
    "version": 3
   },
   "file_extension": ".py",
   "mimetype": "text/x-python",
   "name": "python",
   "nbconvert_exporter": "python",
   "pygments_lexer": "ipython3",
   "version": "3.7.3"
  }
 },
 "nbformat": 4,
 "nbformat_minor": 4
}
